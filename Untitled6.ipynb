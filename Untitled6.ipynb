{
 "cells": [
  {
   "cell_type": "code",
   "execution_count": 1,
   "metadata": {},
   "outputs": [],
   "source": [
    "# first we are starting from the easy data analysis and plot them "
   ]
  },
  {
   "cell_type": "code",
   "execution_count": null,
   "metadata": {},
   "outputs": [],
   "source": [
    "import pandas as pd\n",
    "from matplotlib import pyplot as plt"
   ]
  },
  {
   "cell_type": "code",
   "execution_count": 5,
   "metadata": {},
   "outputs": [
    {
     "data": {
      "image/png": "[encoded data removed]",
      "text/plain": [
       "<Figure size 432x288 with 1 Axes>"
      ]
     },
     "metadata": {
      "needs_background": "light"
     },
     "output_type": "display_data"
    }
   ],
   "source": [
    "x =[1,2,3]\n",
    "y =[1,4,9]\n",
    "z =[10,5,0]\n",
    "plt.plot(x,y)\n",
    "plt.plot(x,z)\n",
    "plt.title(\"test plot\")\n",
    "plt.xlabel(\"x\")\n",
    "plt.ylabel(\"y and z\")\n",
    "plt.legend((\"this is y\",\"this is z\"))\n",
    "plt.show()\n"
   ]
  },
  {
   "cell_type": "code",
   "execution_count": 10,
   "metadata": {},
   "outputs": [],
   "source": [
    "sample_data= pd.read_csv(\"sample_data.csv\")\n"
   ]
  },
  {
   "cell_type": "code",
   "execution_count": 53,
   "metadata": {},
   "outputs": [
    {
     "data": {
      "text/html": [
       "<div>\n",
       "<style scoped>\n",
       "    .dataframe tbody tr th:only-of-type {\n",
       "        vertical-align: middle;\n",
       "    }\n",
       "\n",
       "    .dataframe tbody tr th {\n",
       "        vertical-align: top;\n",
       "    }\n",
       "\n",
       "    .dataframe thead th {\n",
       "        text-align: right;\n",
       "    }\n",
       "</style>\n",
       "<table border=\"1\" class=\"dataframe\">\n",
       "  <thead>\n",
       "    <tr style=\"text-align: right;\">\n",
       "      <th></th>\n",
       "      <th>column_a</th>\n",
       "      <th>column_b</th>\n",
       "      <th>column_c</th>\n",
       "    </tr>\n",
       "  </thead>\n",
       "  <tbody>\n",
       "    <tr>\n",
       "      <th>0</th>\n",
       "      <td>1</td>\n",
       "      <td>1</td>\n",
       "      <td>10</td>\n",
       "    </tr>\n",
       "    <tr>\n",
       "      <th>1</th>\n",
       "      <td>2</td>\n",
       "      <td>4</td>\n",
       "      <td>8</td>\n",
       "    </tr>\n",
       "    <tr>\n",
       "      <th>2</th>\n",
       "      <td>3</td>\n",
       "      <td>9</td>\n",
       "      <td>6</td>\n",
       "    </tr>\n",
       "    <tr>\n",
       "      <th>3</th>\n",
       "      <td>4</td>\n",
       "      <td>16</td>\n",
       "      <td>4</td>\n",
       "    </tr>\n",
       "    <tr>\n",
       "      <th>4</th>\n",
       "      <td>5</td>\n",
       "      <td>25</td>\n",
       "      <td>2</td>\n",
       "    </tr>\n",
       "  </tbody>\n",
       "</table>\n",
       "</div>"
      ],
      "text/plain": [
       "   column_a  column_b  column_c\n",
       "0         1         1        10\n",
       "1         2         4         8\n",
       "2         3         9         6\n",
       "3         4        16         4\n",
       "4         5        25         2"
      ]
     },
     "execution_count": 53,
     "metadata": {},
     "output_type": "execute_result"
    }
   ],
   "source": [
    "sample_data"
   ]
  },
  {
   "cell_type": "code",
   "execution_count": 54,
   "metadata": {},
   "outputs": [
    {
     "data": {
      "text/plain": [
       "4"
      ]
     },
     "execution_count": 54,
     "metadata": {},
     "output_type": "execute_result"
    }
   ],
   "source": [
    "#  we  can also retrieve specific value so for this  code will be like this\n",
    "sample_data.column_c.iloc[3]"
   ]
  },
  {
   "cell_type": "code",
   "execution_count": 55,
   "metadata": {},
   "outputs": [
    {
     "data": {
      "image/png": "[encoded data removed]",
      "text/plain": [
       "<Figure size 432x288 with 1 Axes>"
      ]
     },
     "metadata": {
      "needs_background": "light"
     },
     "output_type": "display_data"
    }
   ],
   "source": [
    "plt.plot(sample_data.column_a,sample_data.column_b)\n",
    "plt.plot(sample_data.column_a,sample_data.column_c)\n",
    "plt.show()"
   ]
  },
  {
   "cell_type": "code",
   "execution_count": 29,
   "metadata": {},
   "outputs": [],
   "source": [
    "# now we analyse the data  in countries dataset\n",
    "data = pd.read_csv(\"countries.csv\")"
   ]
  },
  {
   "cell_type": "code",
   "execution_count": 30,
   "metadata": {},
   "outputs": [
    {
     "data": {
      "text/html": [
       "<div>\n",
       "<style scoped>\n",
       "    .dataframe tbody tr th:only-of-type {\n",
       "        vertical-align: middle;\n",
       "    }\n",
       "\n",
       "    .dataframe tbody tr th {\n",
       "        vertical-align: top;\n",
       "    }\n",
       "\n",
       "    .dataframe thead th {\n",
       "        text-align: right;\n",
       "    }\n",
       "</style>\n",
       "<table border=\"1\" class=\"dataframe\">\n",
       "  <thead>\n",
       "    <tr style=\"text-align: right;\">\n",
       "      <th></th>\n",
       "      <th>country</th>\n",
       "      <th>year</th>\n",
       "      <th>population</th>\n",
       "    </tr>\n",
       "  </thead>\n",
       "  <tbody>\n",
       "    <tr>\n",
       "      <th>0</th>\n",
       "      <td>Afghanistan</td>\n",
       "      <td>1952</td>\n",
       "      <td>8425333</td>\n",
       "    </tr>\n",
       "    <tr>\n",
       "      <th>1</th>\n",
       "      <td>Afghanistan</td>\n",
       "      <td>1957</td>\n",
       "      <td>9240934</td>\n",
       "    </tr>\n",
       "    <tr>\n",
       "      <th>2</th>\n",
       "      <td>Afghanistan</td>\n",
       "      <td>1962</td>\n",
       "      <td>10267083</td>\n",
       "    </tr>\n",
       "    <tr>\n",
       "      <th>3</th>\n",
       "      <td>Afghanistan</td>\n",
       "      <td>1967</td>\n",
       "      <td>11537966</td>\n",
       "    </tr>\n",
       "    <tr>\n",
       "      <th>4</th>\n",
       "      <td>Afghanistan</td>\n",
       "      <td>1972</td>\n",
       "      <td>13079460</td>\n",
       "    </tr>\n",
       "    <tr>\n",
       "      <th>...</th>\n",
       "      <td>...</td>\n",
       "      <td>...</td>\n",
       "      <td>...</td>\n",
       "    </tr>\n",
       "    <tr>\n",
       "      <th>1699</th>\n",
       "      <td>Zimbabwe</td>\n",
       "      <td>1987</td>\n",
       "      <td>9216418</td>\n",
       "    </tr>\n",
       "    <tr>\n",
       "      <th>1700</th>\n",
       "      <td>Zimbabwe</td>\n",
       "      <td>1992</td>\n",
       "      <td>10704340</td>\n",
       "    </tr>\n",
       "    <tr>\n",
       "      <th>1701</th>\n",
       "      <td>Zimbabwe</td>\n",
       "      <td>1997</td>\n",
       "      <td>11404948</td>\n",
       "    </tr>\n",
       "    <tr>\n",
       "      <th>1702</th>\n",
       "      <td>Zimbabwe</td>\n",
       "      <td>2002</td>\n",
       "      <td>11926563</td>\n",
       "    </tr>\n",
       "    <tr>\n",
       "      <th>1703</th>\n",
       "      <td>Zimbabwe</td>\n",
       "      <td>2007</td>\n",
       "      <td>12311143</td>\n",
       "    </tr>\n",
       "  </tbody>\n",
       "</table>\n",
       "<p>1704 rows × 3 columns</p>\n",
       "</div>"
      ],
      "text/plain": [
       "          country  year  population\n",
       "0     Afghanistan  1952     8425333\n",
       "1     Afghanistan  1957     9240934\n",
       "2     Afghanistan  1962    10267083\n",
       "3     Afghanistan  1967    11537966\n",
       "4     Afghanistan  1972    13079460\n",
       "...           ...   ...         ...\n",
       "1699     Zimbabwe  1987     9216418\n",
       "1700     Zimbabwe  1992    10704340\n",
       "1701     Zimbabwe  1997    11404948\n",
       "1702     Zimbabwe  2002    11926563\n",
       "1703     Zimbabwe  2007    12311143\n",
       "\n",
       "[1704 rows x 3 columns]"
      ]
     },
     "execution_count": 30,
     "metadata": {},
     "output_type": "execute_result"
    }
   ],
   "source": [
    "data"
   ]
  },
  {
   "cell_type": "code",
   "execution_count": 31,
   "metadata": {},
   "outputs": [],
   "source": [
    "# compare the population growth in the US and China\n"
   ]
  },
  {
   "cell_type": "code",
   "execution_count": 56,
   "metadata": {},
   "outputs": [
    {
     "data": {
      "text/plain": [
       "[0       False\n",
       " 1       False\n",
       " 2       False\n",
       " 3       False\n",
       " 4       False\n",
       "         ...  \n",
       " 1699    False\n",
       " 1700    False\n",
       " 1701    False\n",
       " 1702    False\n",
       " 1703    False\n",
       " Name: country, Length: 1704, dtype: bool]"
      ]
     },
     "execution_count": 56,
     "metadata": {},
     "output_type": "execute_result"
    }
   ],
   "source": [
    "# if we use this code so output will be like this that mean all the data will come which country has no united states\n",
    "\n",
    "[data.country=='United States']"
   ]
  },
  {
   "cell_type": "code",
   "execution_count": 59,
   "metadata": {},
   "outputs": [
    {
     "data": {
      "text/html": [
       "<div>\n",
       "<style scoped>\n",
       "    .dataframe tbody tr th:only-of-type {\n",
       "        vertical-align: middle;\n",
       "    }\n",
       "\n",
       "    .dataframe tbody tr th {\n",
       "        vertical-align: top;\n",
       "    }\n",
       "\n",
       "    .dataframe thead th {\n",
       "        text-align: right;\n",
       "    }\n",
       "</style>\n",
       "<table border=\"1\" class=\"dataframe\">\n",
       "  <thead>\n",
       "    <tr style=\"text-align: right;\">\n",
       "      <th></th>\n",
       "      <th>country</th>\n",
       "      <th>year</th>\n",
       "      <th>population</th>\n",
       "    </tr>\n",
       "  </thead>\n",
       "  <tbody>\n",
       "    <tr>\n",
       "      <th>1608</th>\n",
       "      <td>United States</td>\n",
       "      <td>1952</td>\n",
       "      <td>157553000</td>\n",
       "    </tr>\n",
       "    <tr>\n",
       "      <th>1609</th>\n",
       "      <td>United States</td>\n",
       "      <td>1957</td>\n",
       "      <td>171984000</td>\n",
       "    </tr>\n",
       "    <tr>\n",
       "      <th>1610</th>\n",
       "      <td>United States</td>\n",
       "      <td>1962</td>\n",
       "      <td>186538000</td>\n",
       "    </tr>\n",
       "    <tr>\n",
       "      <th>1611</th>\n",
       "      <td>United States</td>\n",
       "      <td>1967</td>\n",
       "      <td>198712000</td>\n",
       "    </tr>\n",
       "    <tr>\n",
       "      <th>1612</th>\n",
       "      <td>United States</td>\n",
       "      <td>1972</td>\n",
       "      <td>209896000</td>\n",
       "    </tr>\n",
       "    <tr>\n",
       "      <th>1613</th>\n",
       "      <td>United States</td>\n",
       "      <td>1977</td>\n",
       "      <td>220239000</td>\n",
       "    </tr>\n",
       "    <tr>\n",
       "      <th>1614</th>\n",
       "      <td>United States</td>\n",
       "      <td>1982</td>\n",
       "      <td>232187835</td>\n",
       "    </tr>\n",
       "    <tr>\n",
       "      <th>1615</th>\n",
       "      <td>United States</td>\n",
       "      <td>1987</td>\n",
       "      <td>242803533</td>\n",
       "    </tr>\n",
       "    <tr>\n",
       "      <th>1616</th>\n",
       "      <td>United States</td>\n",
       "      <td>1992</td>\n",
       "      <td>256894189</td>\n",
       "    </tr>\n",
       "    <tr>\n",
       "      <th>1617</th>\n",
       "      <td>United States</td>\n",
       "      <td>1997</td>\n",
       "      <td>272911760</td>\n",
       "    </tr>\n",
       "    <tr>\n",
       "      <th>1618</th>\n",
       "      <td>United States</td>\n",
       "      <td>2002</td>\n",
       "      <td>287675526</td>\n",
       "    </tr>\n",
       "    <tr>\n",
       "      <th>1619</th>\n",
       "      <td>United States</td>\n",
       "      <td>2007</td>\n",
       "      <td>301139947</td>\n",
       "    </tr>\n",
       "  </tbody>\n",
       "</table>\n",
       "</div>"
      ],
      "text/plain": [
       "            country  year  population\n",
       "1608  United States  1952   157553000\n",
       "1609  United States  1957   171984000\n",
       "1610  United States  1962   186538000\n",
       "1611  United States  1967   198712000\n",
       "1612  United States  1972   209896000\n",
       "1613  United States  1977   220239000\n",
       "1614  United States  1982   232187835\n",
       "1615  United States  1987   242803533\n",
       "1616  United States  1992   256894189\n",
       "1617  United States  1997   272911760\n",
       "1618  United States  2002   287675526\n",
       "1619  United States  2007   301139947"
      ]
     },
     "execution_count": 59,
     "metadata": {},
     "output_type": "execute_result"
    }
   ],
   "source": [
    "# but if we use this code so output will be like this that mean all united states data will be come\n",
    "data[data.country == 'United States']"
   ]
  },
  {
   "cell_type": "code",
   "execution_count": 34,
   "metadata": {},
   "outputs": [],
   "source": [
    "us = data[data.country == 'United States']"
   ]
  },
  {
   "cell_type": "code",
   "execution_count": null,
   "metadata": {},
   "outputs": [],
   "source": []
  },
  {
   "cell_type": "code",
   "execution_count": 33,
   "metadata": {},
   "outputs": [
    {
     "data": {
      "text/html": [
       "<div>\n",
       "<style scoped>\n",
       "    .dataframe tbody tr th:only-of-type {\n",
       "        vertical-align: middle;\n",
       "    }\n",
       "\n",
       "    .dataframe tbody tr th {\n",
       "        vertical-align: top;\n",
       "    }\n",
       "\n",
       "    .dataframe thead th {\n",
       "        text-align: right;\n",
       "    }\n",
       "</style>\n",
       "<table border=\"1\" class=\"dataframe\">\n",
       "  <thead>\n",
       "    <tr style=\"text-align: right;\">\n",
       "      <th></th>\n",
       "      <th>country</th>\n",
       "      <th>year</th>\n",
       "      <th>population</th>\n",
       "    </tr>\n",
       "  </thead>\n",
       "  <tbody>\n",
       "    <tr>\n",
       "      <th>1608</th>\n",
       "      <td>United States</td>\n",
       "      <td>1952</td>\n",
       "      <td>157553000</td>\n",
       "    </tr>\n",
       "    <tr>\n",
       "      <th>1609</th>\n",
       "      <td>United States</td>\n",
       "      <td>1957</td>\n",
       "      <td>171984000</td>\n",
       "    </tr>\n",
       "    <tr>\n",
       "      <th>1610</th>\n",
       "      <td>United States</td>\n",
       "      <td>1962</td>\n",
       "      <td>186538000</td>\n",
       "    </tr>\n",
       "    <tr>\n",
       "      <th>1611</th>\n",
       "      <td>United States</td>\n",
       "      <td>1967</td>\n",
       "      <td>198712000</td>\n",
       "    </tr>\n",
       "    <tr>\n",
       "      <th>1612</th>\n",
       "      <td>United States</td>\n",
       "      <td>1972</td>\n",
       "      <td>209896000</td>\n",
       "    </tr>\n",
       "    <tr>\n",
       "      <th>1613</th>\n",
       "      <td>United States</td>\n",
       "      <td>1977</td>\n",
       "      <td>220239000</td>\n",
       "    </tr>\n",
       "    <tr>\n",
       "      <th>1614</th>\n",
       "      <td>United States</td>\n",
       "      <td>1982</td>\n",
       "      <td>232187835</td>\n",
       "    </tr>\n",
       "    <tr>\n",
       "      <th>1615</th>\n",
       "      <td>United States</td>\n",
       "      <td>1987</td>\n",
       "      <td>242803533</td>\n",
       "    </tr>\n",
       "    <tr>\n",
       "      <th>1616</th>\n",
       "      <td>United States</td>\n",
       "      <td>1992</td>\n",
       "      <td>256894189</td>\n",
       "    </tr>\n",
       "    <tr>\n",
       "      <th>1617</th>\n",
       "      <td>United States</td>\n",
       "      <td>1997</td>\n",
       "      <td>272911760</td>\n",
       "    </tr>\n",
       "    <tr>\n",
       "      <th>1618</th>\n",
       "      <td>United States</td>\n",
       "      <td>2002</td>\n",
       "      <td>287675526</td>\n",
       "    </tr>\n",
       "    <tr>\n",
       "      <th>1619</th>\n",
       "      <td>United States</td>\n",
       "      <td>2007</td>\n",
       "      <td>301139947</td>\n",
       "    </tr>\n",
       "  </tbody>\n",
       "</table>\n",
       "</div>"
      ],
      "text/plain": [
       "            country  year  population\n",
       "1608  United States  1952   157553000\n",
       "1609  United States  1957   171984000\n",
       "1610  United States  1962   186538000\n",
       "1611  United States  1967   198712000\n",
       "1612  United States  1972   209896000\n",
       "1613  United States  1977   220239000\n",
       "1614  United States  1982   232187835\n",
       "1615  United States  1987   242803533\n",
       "1616  United States  1992   256894189\n",
       "1617  United States  1997   272911760\n",
       "1618  United States  2002   287675526\n",
       "1619  United States  2007   301139947"
      ]
     },
     "execution_count": 33,
     "metadata": {},
     "output_type": "execute_result"
    }
   ],
   "source": [
    "us"
   ]
  },
  {
   "cell_type": "code",
   "execution_count": 58,
   "metadata": {},
   "outputs": [
    {
     "data": {
      "text/plain": [
       "[0       False\n",
       " 1       False\n",
       " 2       False\n",
       " 3       False\n",
       " 4       False\n",
       "         ...  \n",
       " 1699    False\n",
       " 1700    False\n",
       " 1701    False\n",
       " 1702    False\n",
       " 1703    False\n",
       " Name: country, Length: 1704, dtype: bool]"
      ]
     },
     "execution_count": 58,
     "metadata": {},
     "output_type": "execute_result"
    }
   ],
   "source": [
    "#same for this code also \n",
    "[data.country=='China']"
   ]
  },
  {
   "cell_type": "code",
   "execution_count": 60,
   "metadata": {},
   "outputs": [
    {
     "data": {
      "text/html": [
       "<div>\n",
       "<style scoped>\n",
       "    .dataframe tbody tr th:only-of-type {\n",
       "        vertical-align: middle;\n",
       "    }\n",
       "\n",
       "    .dataframe tbody tr th {\n",
       "        vertical-align: top;\n",
       "    }\n",
       "\n",
       "    .dataframe thead th {\n",
       "        text-align: right;\n",
       "    }\n",
       "</style>\n",
       "<table border=\"1\" class=\"dataframe\">\n",
       "  <thead>\n",
       "    <tr style=\"text-align: right;\">\n",
       "      <th></th>\n",
       "      <th>country</th>\n",
       "      <th>year</th>\n",
       "      <th>population</th>\n",
       "    </tr>\n",
       "  </thead>\n",
       "  <tbody>\n",
       "    <tr>\n",
       "      <th>288</th>\n",
       "      <td>China</td>\n",
       "      <td>1952</td>\n",
       "      <td>556263527</td>\n",
       "    </tr>\n",
       "    <tr>\n",
       "      <th>289</th>\n",
       "      <td>China</td>\n",
       "      <td>1957</td>\n",
       "      <td>637408000</td>\n",
       "    </tr>\n",
       "    <tr>\n",
       "      <th>290</th>\n",
       "      <td>China</td>\n",
       "      <td>1962</td>\n",
       "      <td>665770000</td>\n",
       "    </tr>\n",
       "    <tr>\n",
       "      <th>291</th>\n",
       "      <td>China</td>\n",
       "      <td>1967</td>\n",
       "      <td>754550000</td>\n",
       "    </tr>\n",
       "    <tr>\n",
       "      <th>292</th>\n",
       "      <td>China</td>\n",
       "      <td>1972</td>\n",
       "      <td>862030000</td>\n",
       "    </tr>\n",
       "    <tr>\n",
       "      <th>293</th>\n",
       "      <td>China</td>\n",
       "      <td>1977</td>\n",
       "      <td>943455000</td>\n",
       "    </tr>\n",
       "    <tr>\n",
       "      <th>294</th>\n",
       "      <td>China</td>\n",
       "      <td>1982</td>\n",
       "      <td>1000281000</td>\n",
       "    </tr>\n",
       "    <tr>\n",
       "      <th>295</th>\n",
       "      <td>China</td>\n",
       "      <td>1987</td>\n",
       "      <td>1084035000</td>\n",
       "    </tr>\n",
       "    <tr>\n",
       "      <th>296</th>\n",
       "      <td>China</td>\n",
       "      <td>1992</td>\n",
       "      <td>1164970000</td>\n",
       "    </tr>\n",
       "    <tr>\n",
       "      <th>297</th>\n",
       "      <td>China</td>\n",
       "      <td>1997</td>\n",
       "      <td>1230075000</td>\n",
       "    </tr>\n",
       "    <tr>\n",
       "      <th>298</th>\n",
       "      <td>China</td>\n",
       "      <td>2002</td>\n",
       "      <td>1280400000</td>\n",
       "    </tr>\n",
       "    <tr>\n",
       "      <th>299</th>\n",
       "      <td>China</td>\n",
       "      <td>2007</td>\n",
       "      <td>1318683096</td>\n",
       "    </tr>\n",
       "  </tbody>\n",
       "</table>\n",
       "</div>"
      ],
      "text/plain": [
       "    country  year  population\n",
       "288   China  1952   556263527\n",
       "289   China  1957   637408000\n",
       "290   China  1962   665770000\n",
       "291   China  1967   754550000\n",
       "292   China  1972   862030000\n",
       "293   China  1977   943455000\n",
       "294   China  1982  1000281000\n",
       "295   China  1987  1084035000\n",
       "296   China  1992  1164970000\n",
       "297   China  1997  1230075000\n",
       "298   China  2002  1280400000\n",
       "299   China  2007  1318683096"
      ]
     },
     "execution_count": 60,
     "metadata": {},
     "output_type": "execute_result"
    }
   ],
   "source": [
    "#same this code also\n",
    "data[data.country=='China']"
   ]
  },
  {
   "cell_type": "code",
   "execution_count": 37,
   "metadata": {},
   "outputs": [],
   "source": [
    "china = data[data.country=='China']"
   ]
  },
  {
   "cell_type": "code",
   "execution_count": 38,
   "metadata": {},
   "outputs": [
    {
     "data": {
      "text/html": [
       "<div>\n",
       "<style scoped>\n",
       "    .dataframe tbody tr th:only-of-type {\n",
       "        vertical-align: middle;\n",
       "    }\n",
       "\n",
       "    .dataframe tbody tr th {\n",
       "        vertical-align: top;\n",
       "    }\n",
       "\n",
       "    .dataframe thead th {\n",
       "        text-align: right;\n",
       "    }\n",
       "</style>\n",
       "<table border=\"1\" class=\"dataframe\">\n",
       "  <thead>\n",
       "    <tr style=\"text-align: right;\">\n",
       "      <th></th>\n",
       "      <th>country</th>\n",
       "      <th>year</th>\n",
       "      <th>population</th>\n",
       "    </tr>\n",
       "  </thead>\n",
       "  <tbody>\n",
       "    <tr>\n",
       "      <th>288</th>\n",
       "      <td>China</td>\n",
       "      <td>1952</td>\n",
       "      <td>556263527</td>\n",
       "    </tr>\n",
       "    <tr>\n",
       "      <th>289</th>\n",
       "      <td>China</td>\n",
       "      <td>1957</td>\n",
       "      <td>637408000</td>\n",
       "    </tr>\n",
       "    <tr>\n",
       "      <th>290</th>\n",
       "      <td>China</td>\n",
       "      <td>1962</td>\n",
       "      <td>665770000</td>\n",
       "    </tr>\n",
       "    <tr>\n",
       "      <th>291</th>\n",
       "      <td>China</td>\n",
       "      <td>1967</td>\n",
       "      <td>754550000</td>\n",
       "    </tr>\n",
       "    <tr>\n",
       "      <th>292</th>\n",
       "      <td>China</td>\n",
       "      <td>1972</td>\n",
       "      <td>862030000</td>\n",
       "    </tr>\n",
       "    <tr>\n",
       "      <th>293</th>\n",
       "      <td>China</td>\n",
       "      <td>1977</td>\n",
       "      <td>943455000</td>\n",
       "    </tr>\n",
       "    <tr>\n",
       "      <th>294</th>\n",
       "      <td>China</td>\n",
       "      <td>1982</td>\n",
       "      <td>1000281000</td>\n",
       "    </tr>\n",
       "    <tr>\n",
       "      <th>295</th>\n",
       "      <td>China</td>\n",
       "      <td>1987</td>\n",
       "      <td>1084035000</td>\n",
       "    </tr>\n",
       "    <tr>\n",
       "      <th>296</th>\n",
       "      <td>China</td>\n",
       "      <td>1992</td>\n",
       "      <td>1164970000</td>\n",
       "    </tr>\n",
       "    <tr>\n",
       "      <th>297</th>\n",
       "      <td>China</td>\n",
       "      <td>1997</td>\n",
       "      <td>1230075000</td>\n",
       "    </tr>\n",
       "    <tr>\n",
       "      <th>298</th>\n",
       "      <td>China</td>\n",
       "      <td>2002</td>\n",
       "      <td>1280400000</td>\n",
       "    </tr>\n",
       "    <tr>\n",
       "      <th>299</th>\n",
       "      <td>China</td>\n",
       "      <td>2007</td>\n",
       "      <td>1318683096</td>\n",
       "    </tr>\n",
       "  </tbody>\n",
       "</table>\n",
       "</div>"
      ],
      "text/plain": [
       "    country  year  population\n",
       "288   China  1952   556263527\n",
       "289   China  1957   637408000\n",
       "290   China  1962   665770000\n",
       "291   China  1967   754550000\n",
       "292   China  1972   862030000\n",
       "293   China  1977   943455000\n",
       "294   China  1982  1000281000\n",
       "295   China  1987  1084035000\n",
       "296   China  1992  1164970000\n",
       "297   China  1997  1230075000\n",
       "298   China  2002  1280400000\n",
       "299   China  2007  1318683096"
      ]
     },
     "execution_count": 38,
     "metadata": {},
     "output_type": "execute_result"
    }
   ],
   "source": [
    "china"
   ]
  },
  {
   "cell_type": "code",
   "execution_count": 64,
   "metadata": {},
   "outputs": [
    {
     "data": {
      "image/png": "[encoded data removed]",
      "text/plain": [
       "<Figure size 432x288 with 1 Axes>"
      ]
     },
     "metadata": {
      "needs_background": "light"
     },
     "output_type": "display_data"
    }
   ],
   "source": [
    "#now we plot the data in the graphical way\n",
    "plt.plot(us.year,us.population/10**6)\n",
    "plt.plot(us.year,china.population/10**6)\n",
    "plt.legend(('United States','China'))\n",
    "plt.xlabel('year')\n",
    "plt.ylabel('population ')\n",
    "\n",
    "plt.show()"
   ]
  },
  {
   "cell_type": "code",
   "execution_count": 65,
   "metadata": {},
   "outputs": [
    {
     "data": {
      "image/png": "[encoded data removed]",
      "text/plain": [
       "<Figure size 432x288 with 1 Axes>"
      ]
     },
     "metadata": {
      "needs_background": "light"
     },
     "output_type": "display_data"
    }
   ],
   "source": [
    "# above  graphic representation ,1e8 means that number will be big and for that divide the whole population with 1 million i.e 10^6 \n",
    "plt.plot(us.year,us.population/10**6)\n",
    "plt.plot(us.year,china.population/10**6)\n",
    "plt.legend(('United States','China'))\n",
    "plt.xlabel('year')\n",
    "plt.ylabel('population')\n",
    "\n",
    "plt.show()"
   ]
  },
  {
   "cell_type": "code",
   "execution_count": null,
   "metadata": {},
   "outputs": [],
   "source": [
    "# and now from above representation we can see that from two countries there is lot of difference so from thus we can analyse"
   ]
  },
  {
   "cell_type": "code",
   "execution_count": 48,
   "metadata": {},
   "outputs": [
    {
     "data": {
      "text/plain": [
       "1608    157553000\n",
       "1609    171984000\n",
       "1610    186538000\n",
       "1611    198712000\n",
       "1612    209896000\n",
       "1613    220239000\n",
       "1614    232187835\n",
       "1615    242803533\n",
       "1616    256894189\n",
       "1617    272911760\n",
       "1618    287675526\n",
       "1619    301139947\n",
       "Name: population, dtype: int64"
      ]
     },
     "execution_count": 48,
     "metadata": {},
     "output_type": "execute_result"
    }
   ],
   "source": [
    "# so from year 1952 we divide the whole population with the first year population and after we can multiply with 100 to get the all percentage of population\n"
   ]
  },
  {
   "cell_type": "code",
   "execution_count": 66,
   "metadata": {},
   "outputs": [
    {
     "data": {
      "text/plain": [
       "1608    157553000\n",
       "1609    171984000\n",
       "1610    186538000\n",
       "1611    198712000\n",
       "1612    209896000\n",
       "1613    220239000\n",
       "1614    232187835\n",
       "1615    242803533\n",
       "1616    256894189\n",
       "1617    272911760\n",
       "1618    287675526\n",
       "1619    301139947\n",
       "Name: population, dtype: int64"
      ]
     },
     "execution_count": 66,
     "metadata": {},
     "output_type": "execute_result"
    }
   ],
   "source": [
    "us.population"
   ]
  },
  {
   "cell_type": "code",
   "execution_count": 51,
   "metadata": {},
   "outputs": [
    {
     "data": {
      "text/plain": [
       "1608    100.000000\n",
       "1609    109.159457\n",
       "1610    118.396984\n",
       "1611    126.123908\n",
       "1612    133.222471\n",
       "1613    139.787246\n",
       "1614    147.371256\n",
       "1615    154.109114\n",
       "1616    163.052553\n",
       "1617    173.219018\n",
       "1618    182.589685\n",
       "1619    191.135648\n",
       "Name: population, dtype: float64"
      ]
     },
     "execution_count": 51,
     "metadata": {},
     "output_type": "execute_result"
    }
   ],
   "source": [
    "# here we can execute this above method for getting percentage and similary we can use this method for china\n",
    "us.population/us.population.iloc[0]*100"
   ]
  },
  {
   "cell_type": "code",
   "execution_count": 52,
   "metadata": {},
   "outputs": [
    {
     "data": {
      "image/png": "[encoded data removed]",
      "text/plain": [
       "<Figure size 432x288 with 1 Axes>"
      ]
     },
     "metadata": {
      "needs_background": "light"
     },
     "output_type": "display_data"
    }
   ],
   "source": [
    "# and now we can plot it and execute it\n",
    "plt.plot(us.year,us.population/us.population.iloc[0]*100)\n",
    "plt.plot(us.year,china.population/china.population.iloc[0]*100)\n",
    "plt.legend(('United States','China'))\n",
    "plt.xlabel('year')\n",
    "plt.ylabel('population growth(first year=100)')\n",
    "plt.title(\"Population growth comparison between two countries\")\n",
    "plt.show()"
   ]
  },
  {
   "cell_type": "code",
   "execution_count": null,
   "metadata": {},
   "outputs": [],
   "source": [
    "# similarly,same  we can compare other countries population also  and execute it"
   ]
  }
 ],
 "metadata": {
  "kernelspec": {
   "display_name": "Python 3",
   "language": "python",
   "name": "python3"
  },
  "language_info": {
   "codemirror_mode": {
    "name": "ipython",
    "version": 3
   },
   "file_extension": ".py",
   "mimetype": "text/x-python",
   "name": "python",
   "nbconvert_exporter": "python",
   "pygments_lexer": "ipython3",
   "version": "3.8.5"
  }
 },
 "nbformat": 4,
 "nbformat_minor": 4
}
